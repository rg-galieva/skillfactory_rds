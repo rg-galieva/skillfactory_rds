{
 "nbformat": 4,
 "nbformat_minor": 2,
 "metadata": {
  "language_info": {
   "name": "python",
   "codemirror_mode": {
    "name": "ipython",
    "version": 3
   },
   "version": "3.7.6-final"
  },
  "orig_nbformat": 2,
  "file_extension": ".py",
  "mimetype": "text/x-python",
  "name": "python",
  "npconvert_exporter": "python",
  "pygments_lexer": "ipython3",
  "version": 3,
  "kernelspec": {
   "name": "python3",
   "display_name": "Python 3"
  }
 },
 "cells": [
  {
   "cell_type": "code",
   "execution_count": 18,
   "metadata": {},
   "outputs": [
    {
     "name": "stdout",
     "output_type": "stream",
     "text": "Ваш алгоритм угадывает число в среднем за 101 попыток\nВаш алгоритм угадывает число в среднем за 33 попыток\nВаш алгоритм угадывает число в среднем за 5 попыток\n"
    },
    {
     "data": {
      "text/plain": "5"
     },
     "execution_count": 18,
     "metadata": {},
     "output_type": "execute_result"
    }
   ],
   "source": [
    "from main import score_game, game_core_v1, game_core_v2, game_core\n",
    "\n",
    "\n",
    "# Test references from the initial task\n",
    "score_game(game_core_v1) # => 101\n",
    "score_game(game_core_v2) # => 33\n",
    "\n",
    "# Test final solution: binary search based version of the game_core\n",
    "score_game(game_core) # => 5"
   ]
  }
 ]
}