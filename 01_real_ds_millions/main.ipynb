{
 "cells": [
  {
   "cell_type": "code",
   "execution_count": 1,
   "metadata": {
    "_cell_guid": "b1076dfc-b9ad-4769-8c92-a6c4dae69d19",
    "_uuid": "8f2839f25d086af736a60e9eeb907d3b93b6e0e5",
    "colab": {},
    "colab_type": "code",
    "id": "U2D2gTdJVp90"
   },
   "outputs": [],
   "source": [
    "import numpy as np\n",
    "import pandas as pd\n",
    "import seaborn as sns\n",
    "import matplotlib.pyplot as plt\n",
    "from collections import Counter"
   ]
  },
  {
   "cell_type": "code",
   "execution_count": 2,
   "metadata": {
    "_cell_guid": "79c7e3d0-c299-4dcb-8224-4455121ee9b0",
    "_uuid": "d629ff2d2480ee46fbb7e2d37f6b5fab8052498a",
    "colab": {},
    "colab_type": "code",
    "id": "oyGfxL3eVp9-"
   },
   "outputs": [
    {
     "data": {
      "text/html": [
       "<div>\n",
       "<style scoped>\n",
       "    .dataframe tbody tr th:only-of-type {\n",
       "        vertical-align: middle;\n",
       "    }\n",
       "\n",
       "    .dataframe tbody tr th {\n",
       "        vertical-align: top;\n",
       "    }\n",
       "\n",
       "    .dataframe thead th {\n",
       "        text-align: right;\n",
       "    }\n",
       "</style>\n",
       "<table border=\"1\" class=\"dataframe\">\n",
       "  <thead>\n",
       "    <tr style=\"text-align: right;\">\n",
       "      <th></th>\n",
       "      <th>imdb_id</th>\n",
       "      <th>budget</th>\n",
       "      <th>revenue</th>\n",
       "      <th>original_title</th>\n",
       "      <th>cast</th>\n",
       "      <th>director</th>\n",
       "      <th>tagline</th>\n",
       "      <th>overview</th>\n",
       "      <th>runtime</th>\n",
       "      <th>genres</th>\n",
       "      <th>production_companies</th>\n",
       "      <th>release_date</th>\n",
       "      <th>vote_average</th>\n",
       "      <th>release_year</th>\n",
       "    </tr>\n",
       "  </thead>\n",
       "  <tbody>\n",
       "    <tr>\n",
       "      <th>555</th>\n",
       "      <td>tt0225071</td>\n",
       "      <td>53000000</td>\n",
       "      <td>29700000</td>\n",
       "      <td>Angel Eyes</td>\n",
       "      <td>Jennifer Lopez|Jim Caviezel|Jeremy Sisto|Terre...</td>\n",
       "      <td>Luis Mandoki</td>\n",
       "      <td>The deeper you look, the more you will find.</td>\n",
       "      <td>A story about a seemingly unlikely couple who ...</td>\n",
       "      <td>102</td>\n",
       "      <td>Drama|Romance|Thriller</td>\n",
       "      <td>Warner Bros. Pictures|Franchise Pictures|Morga...</td>\n",
       "      <td>5/15/2001</td>\n",
       "      <td>5.6</td>\n",
       "      <td>2001</td>\n",
       "    </tr>\n",
       "    <tr>\n",
       "      <th>890</th>\n",
       "      <td>tt0298130</td>\n",
       "      <td>48000000</td>\n",
       "      <td>249348933</td>\n",
       "      <td>The Ring</td>\n",
       "      <td>Naomi Watts|Martin Henderson|David Dorfman|Bri...</td>\n",
       "      <td>Gore Verbinski</td>\n",
       "      <td>Before you die, you see.</td>\n",
       "      <td>It sounded like just another urban legend: A v...</td>\n",
       "      <td>115</td>\n",
       "      <td>Horror|Mystery|Thriller</td>\n",
       "      <td>DreamWorks SKG|BenderSpink|Parkes+MacDonald Im...</td>\n",
       "      <td>10/18/2002</td>\n",
       "      <td>6.4</td>\n",
       "      <td>2002</td>\n",
       "    </tr>\n",
       "    <tr>\n",
       "      <th>749</th>\n",
       "      <td>tt0978764</td>\n",
       "      <td>82000000</td>\n",
       "      <td>89792502</td>\n",
       "      <td>Sucker Punch</td>\n",
       "      <td>Emily Browning|Abbie Cornish|Jena Malone|Vanes...</td>\n",
       "      <td>Zack Snyder</td>\n",
       "      <td>You Will Be Unprepared.</td>\n",
       "      <td>A young girl is institutionalized by her abusi...</td>\n",
       "      <td>110</td>\n",
       "      <td>Action|Fantasy|Thriller</td>\n",
       "      <td>Legendary Pictures|Warner Bros.|Lennox House F...</td>\n",
       "      <td>3/24/2011</td>\n",
       "      <td>5.9</td>\n",
       "      <td>2011</td>\n",
       "    </tr>\n",
       "    <tr>\n",
       "      <th>148</th>\n",
       "      <td>tt1587310</td>\n",
       "      <td>180000000</td>\n",
       "      <td>758410378</td>\n",
       "      <td>Maleficent</td>\n",
       "      <td>Angelina Jolie|Elle Fanning|Juno Temple|Sharlt...</td>\n",
       "      <td>Robert Stromberg</td>\n",
       "      <td>Don't believe the fairy tale.</td>\n",
       "      <td>The untold story of Disney's most iconic villa...</td>\n",
       "      <td>97</td>\n",
       "      <td>Fantasy|Adventure|Action|Family|Romance</td>\n",
       "      <td>Walt Disney Pictures|Roth Films</td>\n",
       "      <td>5/28/2014</td>\n",
       "      <td>7.0</td>\n",
       "      <td>2014</td>\n",
       "    </tr>\n",
       "    <tr>\n",
       "      <th>1704</th>\n",
       "      <td>tt0462538</td>\n",
       "      <td>75000000</td>\n",
       "      <td>527068851</td>\n",
       "      <td>The Simpsons Movie</td>\n",
       "      <td>Dan Castellaneta|Julie Kavner|Nancy Cartwright...</td>\n",
       "      <td>David Silverman</td>\n",
       "      <td>See our family. And feel better about yours.</td>\n",
       "      <td>After Homer accidentally pollutes the town's w...</td>\n",
       "      <td>87</td>\n",
       "      <td>Animation|Comedy|Family</td>\n",
       "      <td>Gracie Films|Twentieth Century Fox Film Corpor...</td>\n",
       "      <td>7/25/2007</td>\n",
       "      <td>6.9</td>\n",
       "      <td>2007</td>\n",
       "    </tr>\n",
       "    <tr>\n",
       "      <th>1631</th>\n",
       "      <td>tt0315297</td>\n",
       "      <td>50000000</td>\n",
       "      <td>25195000</td>\n",
       "      <td>Twisted</td>\n",
       "      <td>Ashley Judd|Samuel L. Jackson|Andy GarcÃ­a|Dav...</td>\n",
       "      <td>Philip Kaufman</td>\n",
       "      <td>Every murder has a mark.</td>\n",
       "      <td>Recently promoted and transferred to the homic...</td>\n",
       "      <td>97</td>\n",
       "      <td>Action|Adventure|Crime|Drama|Thriller</td>\n",
       "      <td>Paramount Pictures|Kopelson Entertainment|Harl...</td>\n",
       "      <td>2/27/2004</td>\n",
       "      <td>5.7</td>\n",
       "      <td>2004</td>\n",
       "    </tr>\n",
       "    <tr>\n",
       "      <th>661</th>\n",
       "      <td>tt0481536</td>\n",
       "      <td>12000000</td>\n",
       "      <td>43493123</td>\n",
       "      <td>Harold &amp; Kumar Escape from Guantanamo Bay</td>\n",
       "      <td>John Cho|Kal Penn|Neil Patrick Harris|Rob Cord...</td>\n",
       "      <td>Jon Hurwitz|Hayden Schlossberg</td>\n",
       "      <td>This time they're running from the joint.</td>\n",
       "      <td>Having satisfied their urge for White Castle, ...</td>\n",
       "      <td>107</td>\n",
       "      <td>Comedy|Adventure</td>\n",
       "      <td>New Line Cinema</td>\n",
       "      <td>4/25/2008</td>\n",
       "      <td>6.0</td>\n",
       "      <td>2008</td>\n",
       "    </tr>\n",
       "    <tr>\n",
       "      <th>1798</th>\n",
       "      <td>tt0499554</td>\n",
       "      <td>10000000</td>\n",
       "      <td>20342161</td>\n",
       "      <td>Reno 911!: Miami</td>\n",
       "      <td>Lennie Loftin|Danny DeVito|Ben Garant|Carlos A...</td>\n",
       "      <td>Ben Garant</td>\n",
       "      <td>In a time of crisis, America will call Reno 911!</td>\n",
       "      <td>A rag-tag team of Reno cops are called in to s...</td>\n",
       "      <td>84</td>\n",
       "      <td>Action|Adventure|Comedy|Crime</td>\n",
       "      <td>20th Century Fox</td>\n",
       "      <td>2/23/2007</td>\n",
       "      <td>5.8</td>\n",
       "      <td>2007</td>\n",
       "    </tr>\n",
       "    <tr>\n",
       "      <th>445</th>\n",
       "      <td>tt1231587</td>\n",
       "      <td>36000000</td>\n",
       "      <td>64572262</td>\n",
       "      <td>Hot Tub Time Machine</td>\n",
       "      <td>John Cusack|Lizzy Caplan|Rob Corddry|Craig Rob...</td>\n",
       "      <td>Steve Pink</td>\n",
       "      <td>Kick some past</td>\n",
       "      <td>A malfunctioning time machine at a ski resort ...</td>\n",
       "      <td>101</td>\n",
       "      <td>Science Fiction|Comedy|Adventure</td>\n",
       "      <td>United Artists|Metro-Goldwyn-Mayer (MGM)|New C...</td>\n",
       "      <td>3/26/2010</td>\n",
       "      <td>5.9</td>\n",
       "      <td>2010</td>\n",
       "    </tr>\n",
       "    <tr>\n",
       "      <th>1464</th>\n",
       "      <td>tt0424095</td>\n",
       "      <td>149000000</td>\n",
       "      <td>64459316</td>\n",
       "      <td>Flushed Away</td>\n",
       "      <td>Hugh Jackman|Kate Winslet|Ian McKellen|Jean Re...</td>\n",
       "      <td>David Bowers|Sam Fell</td>\n",
       "      <td>Someone's Going Down</td>\n",
       "      <td>London high-society mouse, Roddy is flushed do...</td>\n",
       "      <td>85</td>\n",
       "      <td>Adventure|Animation|Comedy|Family</td>\n",
       "      <td>Aardman Animations|DreamWorks Animation</td>\n",
       "      <td>10/22/2006</td>\n",
       "      <td>6.0</td>\n",
       "      <td>2006</td>\n",
       "    </tr>\n",
       "    <tr>\n",
       "      <th>1016</th>\n",
       "      <td>tt1673434</td>\n",
       "      <td>120000000</td>\n",
       "      <td>829000000</td>\n",
       "      <td>The Twilight Saga: Breaking Dawn - Part 2</td>\n",
       "      <td>Kristen Stewart|Robert Pattinson|Taylor Lautne...</td>\n",
       "      <td>Bill Condon</td>\n",
       "      <td>The epic finale that will live forever</td>\n",
       "      <td>After the birth of Renesmee, the Cullens gathe...</td>\n",
       "      <td>115</td>\n",
       "      <td>Adventure|Fantasy|Drama|Romance</td>\n",
       "      <td>Summit Entertainment|Sunswept Entertainment|Te...</td>\n",
       "      <td>11/13/2012</td>\n",
       "      <td>6.1</td>\n",
       "      <td>2012</td>\n",
       "    </tr>\n",
       "    <tr>\n",
       "      <th>1676</th>\n",
       "      <td>tt0413300</td>\n",
       "      <td>258000000</td>\n",
       "      <td>890871626</td>\n",
       "      <td>Spider-Man 3</td>\n",
       "      <td>Tobey Maguire|Kirsten Dunst|James Franco|Thoma...</td>\n",
       "      <td>Sam Raimi</td>\n",
       "      <td>The battle within.</td>\n",
       "      <td>The seemingly invincible Spider-Man goes up ag...</td>\n",
       "      <td>139</td>\n",
       "      <td>Fantasy|Action|Adventure</td>\n",
       "      <td>Columbia Pictures|Laura Ziskin Productions|Mar...</td>\n",
       "      <td>5/1/2007</td>\n",
       "      <td>5.8</td>\n",
       "      <td>2007</td>\n",
       "    </tr>\n",
       "    <tr>\n",
       "      <th>1358</th>\n",
       "      <td>tt0416320</td>\n",
       "      <td>15000000</td>\n",
       "      <td>85306374</td>\n",
       "      <td>Match Point</td>\n",
       "      <td>Jonathan Rhys Meyers|Scarlett Johansson|Emily ...</td>\n",
       "      <td>Woody Allen</td>\n",
       "      <td>Passion Temptation Obsession</td>\n",
       "      <td>Match Point is Woody Allenâ€™s satire of the B...</td>\n",
       "      <td>124</td>\n",
       "      <td>Drama|Thriller|Crime|Romance</td>\n",
       "      <td>DreamWorks</td>\n",
       "      <td>5/12/2005</td>\n",
       "      <td>7.1</td>\n",
       "      <td>2005</td>\n",
       "    </tr>\n",
       "    <tr>\n",
       "      <th>1461</th>\n",
       "      <td>tt0414993</td>\n",
       "      <td>35000000</td>\n",
       "      <td>15304890</td>\n",
       "      <td>The Fountain</td>\n",
       "      <td>Hugh Jackman|Rachel Weisz|Ellen Burstyn|Mark M...</td>\n",
       "      <td>Darren Aronofsky</td>\n",
       "      <td>Death is the road to awe</td>\n",
       "      <td>Spanning over one thousand years, and three pa...</td>\n",
       "      <td>96</td>\n",
       "      <td>Drama|Adventure|Science Fiction|Romance</td>\n",
       "      <td>Regency Enterprises|Warner Bros.|Muse Entertai...</td>\n",
       "      <td>9/6/2006</td>\n",
       "      <td>6.7</td>\n",
       "      <td>2006</td>\n",
       "    </tr>\n",
       "    <tr>\n",
       "      <th>589</th>\n",
       "      <td>tt0273799</td>\n",
       "      <td>12000000</td>\n",
       "      <td>17292381</td>\n",
       "      <td>Max Keeble's Big Move</td>\n",
       "      <td>Alex D. Linz|Zena Grey|Nora Dunn|Larry Miller|...</td>\n",
       "      <td>Tim Hill</td>\n",
       "      <td>His World. His Rules.</td>\n",
       "      <td>Max Keeble, the victim of his 7th grade class,...</td>\n",
       "      <td>86</td>\n",
       "      <td>Comedy|Family|Fantasy|Science Fiction</td>\n",
       "      <td>Walt Disney Pictures|Karz Entertainment</td>\n",
       "      <td>10/5/2001</td>\n",
       "      <td>5.3</td>\n",
       "      <td>2001</td>\n",
       "    </tr>\n",
       "    <tr>\n",
       "      <th>956</th>\n",
       "      <td>tt0285462</td>\n",
       "      <td>20000000</td>\n",
       "      <td>8586376</td>\n",
       "      <td>Boat Trip</td>\n",
       "      <td>Cuba Gooding Jr.|Horatio Sanz|Roselyn SÃ¡nchez...</td>\n",
       "      <td>Mort Nathan</td>\n",
       "      <td>... once you're on, you'll want to get off...</td>\n",
       "      <td>Two straight men mistakenly end up on a \"gays ...</td>\n",
       "      <td>94</td>\n",
       "      <td>Comedy</td>\n",
       "      <td>Motion Picture Corporation of America|Artisan ...</td>\n",
       "      <td>10/1/2002</td>\n",
       "      <td>4.5</td>\n",
       "      <td>2002</td>\n",
       "    </tr>\n",
       "    <tr>\n",
       "      <th>1596</th>\n",
       "      <td>tt0308644</td>\n",
       "      <td>25000000</td>\n",
       "      <td>116766556</td>\n",
       "      <td>Finding Neverland</td>\n",
       "      <td>Johnny Depp|Kate Winslet|Julie Christie|Dustin...</td>\n",
       "      <td>Marc Forster</td>\n",
       "      <td>Where will your imagination take you?</td>\n",
       "      <td>Finding Neverland is an amusing drama about ho...</td>\n",
       "      <td>106</td>\n",
       "      <td>Drama</td>\n",
       "      <td>Miramax Films|Film Colony</td>\n",
       "      <td>10/17/2004</td>\n",
       "      <td>7.1</td>\n",
       "      <td>2004</td>\n",
       "    </tr>\n",
       "    <tr>\n",
       "      <th>1881</th>\n",
       "      <td>tt0213790</td>\n",
       "      <td>24000000</td>\n",
       "      <td>13700000</td>\n",
       "      <td>The Ladies Man</td>\n",
       "      <td>Tim Meadows|Karyn Parsons|Billy Dee Williams|J...</td>\n",
       "      <td>Reginald Hudlin</td>\n",
       "      <td>He's cool. He's clean. He's a love machine.</td>\n",
       "      <td>Because of his salacious language, late-night ...</td>\n",
       "      <td>84</td>\n",
       "      <td>Comedy</td>\n",
       "      <td>SNL Studios</td>\n",
       "      <td>10/13/2000</td>\n",
       "      <td>5.4</td>\n",
       "      <td>2000</td>\n",
       "    </tr>\n",
       "    <tr>\n",
       "      <th>891</th>\n",
       "      <td>tt0281358</td>\n",
       "      <td>11000000</td>\n",
       "      <td>41227069</td>\n",
       "      <td>A Walk to Remember</td>\n",
       "      <td>Mandy Moore|Shane West|Peter Coyote|Daryl Hann...</td>\n",
       "      <td>Adam Shankman</td>\n",
       "      <td>She didn't belong. She was misunderstood. And ...</td>\n",
       "      <td>When the popular, restless Landon Carter is fo...</td>\n",
       "      <td>101</td>\n",
       "      <td>Drama|Family|Romance</td>\n",
       "      <td>Pandora Pictures|Warner Bros.</td>\n",
       "      <td>1/25/2002</td>\n",
       "      <td>7.3</td>\n",
       "      <td>2002</td>\n",
       "    </tr>\n",
       "    <tr>\n",
       "      <th>1735</th>\n",
       "      <td>tt0492956</td>\n",
       "      <td>22000000</td>\n",
       "      <td>147880543</td>\n",
       "      <td>The Game Plan</td>\n",
       "      <td>Dwayne Johnson|Madison Pettis|Kyra Sedgwick|Ro...</td>\n",
       "      <td>Andy Fickman</td>\n",
       "      <td>Half his size, twice the trouble ... and she's...</td>\n",
       "      <td>NFL quarterback Joe Kingman was living the bac...</td>\n",
       "      <td>110</td>\n",
       "      <td>Comedy|Family</td>\n",
       "      <td>Walt Disney Pictures|Mayhem Pictures|Monkey Da...</td>\n",
       "      <td>9/28/2007</td>\n",
       "      <td>6.0</td>\n",
       "      <td>2007</td>\n",
       "    </tr>\n",
       "    <tr>\n",
       "      <th>936</th>\n",
       "      <td>tt0253556</td>\n",
       "      <td>60000000</td>\n",
       "      <td>43061982</td>\n",
       "      <td>Reign of Fire</td>\n",
       "      <td>Christian Bale|Matthew McConaughey|Izabella Sc...</td>\n",
       "      <td>Rob Bowman</td>\n",
       "      <td>Fight Fire With Fire</td>\n",
       "      <td>In post-apocalyptic England, an American volun...</td>\n",
       "      <td>101</td>\n",
       "      <td>Action|Fantasy|Science Fiction|Thriller</td>\n",
       "      <td>The Zanuck Company|Spyglass Entertainment|Worl...</td>\n",
       "      <td>7/12/2002</td>\n",
       "      <td>5.9</td>\n",
       "      <td>2002</td>\n",
       "    </tr>\n",
       "    <tr>\n",
       "      <th>1537</th>\n",
       "      <td>tt0443632</td>\n",
       "      <td>60000000</td>\n",
       "      <td>77920346</td>\n",
       "      <td>The Sentinel</td>\n",
       "      <td>Michael Douglas|Kiefer Sutherland|Eva Longoria...</td>\n",
       "      <td>Clark Johnson</td>\n",
       "      <td>In 141 years, there's never been a traitor in ...</td>\n",
       "      <td>A secret service agent is framed as the mole i...</td>\n",
       "      <td>108</td>\n",
       "      <td>Action|Thriller|Crime</td>\n",
       "      <td>Twentieth Century Fox Film Corporation|Dune En...</td>\n",
       "      <td>4/19/2006</td>\n",
       "      <td>5.6</td>\n",
       "      <td>2006</td>\n",
       "    </tr>\n",
       "    <tr>\n",
       "      <th>792</th>\n",
       "      <td>tt0448694</td>\n",
       "      <td>130000000</td>\n",
       "      <td>554987477</td>\n",
       "      <td>Puss in Boots</td>\n",
       "      <td>Antonio Banderas|Salma Hayek|Zach Galifianakis...</td>\n",
       "      <td>Chris Miller</td>\n",
       "      <td>Live for danger. Fight for justice. Pray for m...</td>\n",
       "      <td>Long before he even met Shrek, the notorious f...</td>\n",
       "      <td>90</td>\n",
       "      <td>Action|Adventure|Animation|Family|Fantasy</td>\n",
       "      <td>DreamWorks</td>\n",
       "      <td>10/28/2011</td>\n",
       "      <td>6.9</td>\n",
       "      <td>2011</td>\n",
       "    </tr>\n",
       "    <tr>\n",
       "      <th>214</th>\n",
       "      <td>tt1430612</td>\n",
       "      <td>28000000</td>\n",
       "      <td>68896829</td>\n",
       "      <td>Brick Mansions</td>\n",
       "      <td>Paul Walker|David Belle|RZA|Robert Maillet|Car...</td>\n",
       "      <td>Camille Delamarre</td>\n",
       "      <td>Undercover and never Outgunned</td>\n",
       "      <td>In a dystopian Detroit, grand houses that once...</td>\n",
       "      <td>90</td>\n",
       "      <td>Action|Crime|Drama</td>\n",
       "      <td>Canal+|EuropaCorp|CinÃ©+|D8</td>\n",
       "      <td>4/22/2014</td>\n",
       "      <td>5.8</td>\n",
       "      <td>2014</td>\n",
       "    </tr>\n",
       "    <tr>\n",
       "      <th>497</th>\n",
       "      <td>tt0241527</td>\n",
       "      <td>125000000</td>\n",
       "      <td>976475550</td>\n",
       "      <td>Harry Potter and the Philosopher's Stone</td>\n",
       "      <td>Daniel Radcliffe|Rupert Grint|Emma Watson|John...</td>\n",
       "      <td>Chris Columbus</td>\n",
       "      <td>Let the Magic Begin.</td>\n",
       "      <td>Harry Potter has lived under the stairs at his...</td>\n",
       "      <td>152</td>\n",
       "      <td>Adventure|Fantasy|Family</td>\n",
       "      <td>1492 Pictures|Warner Bros.|Heyday Films</td>\n",
       "      <td>11/16/2001</td>\n",
       "      <td>7.2</td>\n",
       "      <td>2001</td>\n",
       "    </tr>\n",
       "  </tbody>\n",
       "</table>\n",
       "</div>"
      ],
      "text/plain": [
       "        imdb_id     budget    revenue  \\\n",
       "555   tt0225071   53000000   29700000   \n",
       "890   tt0298130   48000000  249348933   \n",
       "749   tt0978764   82000000   89792502   \n",
       "148   tt1587310  180000000  758410378   \n",
       "1704  tt0462538   75000000  527068851   \n",
       "1631  tt0315297   50000000   25195000   \n",
       "661   tt0481536   12000000   43493123   \n",
       "1798  tt0499554   10000000   20342161   \n",
       "445   tt1231587   36000000   64572262   \n",
       "1464  tt0424095  149000000   64459316   \n",
       "1016  tt1673434  120000000  829000000   \n",
       "1676  tt0413300  258000000  890871626   \n",
       "1358  tt0416320   15000000   85306374   \n",
       "1461  tt0414993   35000000   15304890   \n",
       "589   tt0273799   12000000   17292381   \n",
       "956   tt0285462   20000000    8586376   \n",
       "1596  tt0308644   25000000  116766556   \n",
       "1881  tt0213790   24000000   13700000   \n",
       "891   tt0281358   11000000   41227069   \n",
       "1735  tt0492956   22000000  147880543   \n",
       "936   tt0253556   60000000   43061982   \n",
       "1537  tt0443632   60000000   77920346   \n",
       "792   tt0448694  130000000  554987477   \n",
       "214   tt1430612   28000000   68896829   \n",
       "497   tt0241527  125000000  976475550   \n",
       "\n",
       "                                 original_title  \\\n",
       "555                                  Angel Eyes   \n",
       "890                                    The Ring   \n",
       "749                                Sucker Punch   \n",
       "148                                  Maleficent   \n",
       "1704                         The Simpsons Movie   \n",
       "1631                                    Twisted   \n",
       "661   Harold & Kumar Escape from Guantanamo Bay   \n",
       "1798                           Reno 911!: Miami   \n",
       "445                        Hot Tub Time Machine   \n",
       "1464                               Flushed Away   \n",
       "1016  The Twilight Saga: Breaking Dawn - Part 2   \n",
       "1676                               Spider-Man 3   \n",
       "1358                                Match Point   \n",
       "1461                               The Fountain   \n",
       "589                       Max Keeble's Big Move   \n",
       "956                                   Boat Trip   \n",
       "1596                          Finding Neverland   \n",
       "1881                             The Ladies Man   \n",
       "891                          A Walk to Remember   \n",
       "1735                              The Game Plan   \n",
       "936                               Reign of Fire   \n",
       "1537                               The Sentinel   \n",
       "792                               Puss in Boots   \n",
       "214                              Brick Mansions   \n",
       "497    Harry Potter and the Philosopher's Stone   \n",
       "\n",
       "                                                   cast  \\\n",
       "555   Jennifer Lopez|Jim Caviezel|Jeremy Sisto|Terre...   \n",
       "890   Naomi Watts|Martin Henderson|David Dorfman|Bri...   \n",
       "749   Emily Browning|Abbie Cornish|Jena Malone|Vanes...   \n",
       "148   Angelina Jolie|Elle Fanning|Juno Temple|Sharlt...   \n",
       "1704  Dan Castellaneta|Julie Kavner|Nancy Cartwright...   \n",
       "1631  Ashley Judd|Samuel L. Jackson|Andy GarcÃ­a|Dav...   \n",
       "661   John Cho|Kal Penn|Neil Patrick Harris|Rob Cord...   \n",
       "1798  Lennie Loftin|Danny DeVito|Ben Garant|Carlos A...   \n",
       "445   John Cusack|Lizzy Caplan|Rob Corddry|Craig Rob...   \n",
       "1464  Hugh Jackman|Kate Winslet|Ian McKellen|Jean Re...   \n",
       "1016  Kristen Stewart|Robert Pattinson|Taylor Lautne...   \n",
       "1676  Tobey Maguire|Kirsten Dunst|James Franco|Thoma...   \n",
       "1358  Jonathan Rhys Meyers|Scarlett Johansson|Emily ...   \n",
       "1461  Hugh Jackman|Rachel Weisz|Ellen Burstyn|Mark M...   \n",
       "589   Alex D. Linz|Zena Grey|Nora Dunn|Larry Miller|...   \n",
       "956   Cuba Gooding Jr.|Horatio Sanz|Roselyn SÃ¡nchez...   \n",
       "1596  Johnny Depp|Kate Winslet|Julie Christie|Dustin...   \n",
       "1881  Tim Meadows|Karyn Parsons|Billy Dee Williams|J...   \n",
       "891   Mandy Moore|Shane West|Peter Coyote|Daryl Hann...   \n",
       "1735  Dwayne Johnson|Madison Pettis|Kyra Sedgwick|Ro...   \n",
       "936   Christian Bale|Matthew McConaughey|Izabella Sc...   \n",
       "1537  Michael Douglas|Kiefer Sutherland|Eva Longoria...   \n",
       "792   Antonio Banderas|Salma Hayek|Zach Galifianakis...   \n",
       "214   Paul Walker|David Belle|RZA|Robert Maillet|Car...   \n",
       "497   Daniel Radcliffe|Rupert Grint|Emma Watson|John...   \n",
       "\n",
       "                            director  \\\n",
       "555                     Luis Mandoki   \n",
       "890                   Gore Verbinski   \n",
       "749                      Zack Snyder   \n",
       "148                 Robert Stromberg   \n",
       "1704                 David Silverman   \n",
       "1631                  Philip Kaufman   \n",
       "661   Jon Hurwitz|Hayden Schlossberg   \n",
       "1798                      Ben Garant   \n",
       "445                       Steve Pink   \n",
       "1464           David Bowers|Sam Fell   \n",
       "1016                     Bill Condon   \n",
       "1676                       Sam Raimi   \n",
       "1358                     Woody Allen   \n",
       "1461                Darren Aronofsky   \n",
       "589                         Tim Hill   \n",
       "956                      Mort Nathan   \n",
       "1596                    Marc Forster   \n",
       "1881                 Reginald Hudlin   \n",
       "891                    Adam Shankman   \n",
       "1735                    Andy Fickman   \n",
       "936                       Rob Bowman   \n",
       "1537                   Clark Johnson   \n",
       "792                     Chris Miller   \n",
       "214                Camille Delamarre   \n",
       "497                   Chris Columbus   \n",
       "\n",
       "                                                tagline  \\\n",
       "555        The deeper you look, the more you will find.   \n",
       "890                            Before you die, you see.   \n",
       "749                             You Will Be Unprepared.   \n",
       "148                       Don't believe the fairy tale.   \n",
       "1704       See our family. And feel better about yours.   \n",
       "1631                           Every murder has a mark.   \n",
       "661           This time they're running from the joint.   \n",
       "1798   In a time of crisis, America will call Reno 911!   \n",
       "445                                      Kick some past   \n",
       "1464                               Someone's Going Down   \n",
       "1016             The epic finale that will live forever   \n",
       "1676                                 The battle within.   \n",
       "1358                       Passion Temptation Obsession   \n",
       "1461                           Death is the road to awe   \n",
       "589                               His World. His Rules.   \n",
       "956       ... once you're on, you'll want to get off...   \n",
       "1596              Where will your imagination take you?   \n",
       "1881        He's cool. He's clean. He's a love machine.   \n",
       "891   She didn't belong. She was misunderstood. And ...   \n",
       "1735  Half his size, twice the trouble ... and she's...   \n",
       "936                                Fight Fire With Fire   \n",
       "1537  In 141 years, there's never been a traitor in ...   \n",
       "792   Live for danger. Fight for justice. Pray for m...   \n",
       "214                      Undercover and never Outgunned   \n",
       "497                                Let the Magic Begin.   \n",
       "\n",
       "                                               overview  runtime  \\\n",
       "555   A story about a seemingly unlikely couple who ...      102   \n",
       "890   It sounded like just another urban legend: A v...      115   \n",
       "749   A young girl is institutionalized by her abusi...      110   \n",
       "148   The untold story of Disney's most iconic villa...       97   \n",
       "1704  After Homer accidentally pollutes the town's w...       87   \n",
       "1631  Recently promoted and transferred to the homic...       97   \n",
       "661   Having satisfied their urge for White Castle, ...      107   \n",
       "1798  A rag-tag team of Reno cops are called in to s...       84   \n",
       "445   A malfunctioning time machine at a ski resort ...      101   \n",
       "1464  London high-society mouse, Roddy is flushed do...       85   \n",
       "1016  After the birth of Renesmee, the Cullens gathe...      115   \n",
       "1676  The seemingly invincible Spider-Man goes up ag...      139   \n",
       "1358  Match Point is Woody Allenâ€™s satire of the B...      124   \n",
       "1461  Spanning over one thousand years, and three pa...       96   \n",
       "589   Max Keeble, the victim of his 7th grade class,...       86   \n",
       "956   Two straight men mistakenly end up on a \"gays ...       94   \n",
       "1596  Finding Neverland is an amusing drama about ho...      106   \n",
       "1881  Because of his salacious language, late-night ...       84   \n",
       "891   When the popular, restless Landon Carter is fo...      101   \n",
       "1735  NFL quarterback Joe Kingman was living the bac...      110   \n",
       "936   In post-apocalyptic England, an American volun...      101   \n",
       "1537  A secret service agent is framed as the mole i...      108   \n",
       "792   Long before he even met Shrek, the notorious f...       90   \n",
       "214   In a dystopian Detroit, grand houses that once...       90   \n",
       "497   Harry Potter has lived under the stairs at his...      152   \n",
       "\n",
       "                                         genres  \\\n",
       "555                      Drama|Romance|Thriller   \n",
       "890                     Horror|Mystery|Thriller   \n",
       "749                     Action|Fantasy|Thriller   \n",
       "148     Fantasy|Adventure|Action|Family|Romance   \n",
       "1704                    Animation|Comedy|Family   \n",
       "1631      Action|Adventure|Crime|Drama|Thriller   \n",
       "661                            Comedy|Adventure   \n",
       "1798              Action|Adventure|Comedy|Crime   \n",
       "445            Science Fiction|Comedy|Adventure   \n",
       "1464          Adventure|Animation|Comedy|Family   \n",
       "1016            Adventure|Fantasy|Drama|Romance   \n",
       "1676                   Fantasy|Action|Adventure   \n",
       "1358               Drama|Thriller|Crime|Romance   \n",
       "1461    Drama|Adventure|Science Fiction|Romance   \n",
       "589       Comedy|Family|Fantasy|Science Fiction   \n",
       "956                                      Comedy   \n",
       "1596                                      Drama   \n",
       "1881                                     Comedy   \n",
       "891                        Drama|Family|Romance   \n",
       "1735                              Comedy|Family   \n",
       "936     Action|Fantasy|Science Fiction|Thriller   \n",
       "1537                      Action|Thriller|Crime   \n",
       "792   Action|Adventure|Animation|Family|Fantasy   \n",
       "214                          Action|Crime|Drama   \n",
       "497                    Adventure|Fantasy|Family   \n",
       "\n",
       "                                   production_companies release_date  \\\n",
       "555   Warner Bros. Pictures|Franchise Pictures|Morga...    5/15/2001   \n",
       "890   DreamWorks SKG|BenderSpink|Parkes+MacDonald Im...   10/18/2002   \n",
       "749   Legendary Pictures|Warner Bros.|Lennox House F...    3/24/2011   \n",
       "148                     Walt Disney Pictures|Roth Films    5/28/2014   \n",
       "1704  Gracie Films|Twentieth Century Fox Film Corpor...    7/25/2007   \n",
       "1631  Paramount Pictures|Kopelson Entertainment|Harl...    2/27/2004   \n",
       "661                                     New Line Cinema    4/25/2008   \n",
       "1798                                   20th Century Fox    2/23/2007   \n",
       "445   United Artists|Metro-Goldwyn-Mayer (MGM)|New C...    3/26/2010   \n",
       "1464            Aardman Animations|DreamWorks Animation   10/22/2006   \n",
       "1016  Summit Entertainment|Sunswept Entertainment|Te...   11/13/2012   \n",
       "1676  Columbia Pictures|Laura Ziskin Productions|Mar...     5/1/2007   \n",
       "1358                                         DreamWorks    5/12/2005   \n",
       "1461  Regency Enterprises|Warner Bros.|Muse Entertai...     9/6/2006   \n",
       "589             Walt Disney Pictures|Karz Entertainment    10/5/2001   \n",
       "956   Motion Picture Corporation of America|Artisan ...    10/1/2002   \n",
       "1596                          Miramax Films|Film Colony   10/17/2004   \n",
       "1881                                        SNL Studios   10/13/2000   \n",
       "891                       Pandora Pictures|Warner Bros.    1/25/2002   \n",
       "1735  Walt Disney Pictures|Mayhem Pictures|Monkey Da...    9/28/2007   \n",
       "936   The Zanuck Company|Spyglass Entertainment|Worl...    7/12/2002   \n",
       "1537  Twentieth Century Fox Film Corporation|Dune En...    4/19/2006   \n",
       "792                                          DreamWorks   10/28/2011   \n",
       "214                         Canal+|EuropaCorp|CinÃ©+|D8    4/22/2014   \n",
       "497             1492 Pictures|Warner Bros.|Heyday Films   11/16/2001   \n",
       "\n",
       "      vote_average  release_year  \n",
       "555            5.6          2001  \n",
       "890            6.4          2002  \n",
       "749            5.9          2011  \n",
       "148            7.0          2014  \n",
       "1704           6.9          2007  \n",
       "1631           5.7          2004  \n",
       "661            6.0          2008  \n",
       "1798           5.8          2007  \n",
       "445            5.9          2010  \n",
       "1464           6.0          2006  \n",
       "1016           6.1          2012  \n",
       "1676           5.8          2007  \n",
       "1358           7.1          2005  \n",
       "1461           6.7          2006  \n",
       "589            5.3          2001  \n",
       "956            4.5          2002  \n",
       "1596           7.1          2004  \n",
       "1881           5.4          2000  \n",
       "891            7.3          2002  \n",
       "1735           6.0          2007  \n",
       "936            5.9          2002  \n",
       "1537           5.6          2006  \n",
       "792            6.9          2011  \n",
       "214            5.8          2014  \n",
       "497            7.2          2001  "
      ]
     },
     "execution_count": 2,
     "metadata": {},
     "output_type": "execute_result"
    }
   ],
   "source": [
    "data = pd.read_csv('movie_bd_v5.csv')\n",
    "data.sample(5)"
   ]
  },
  {
   "cell_type": "code",
   "execution_count": 3,
   "metadata": {
    "colab": {},
    "colab_type": "code",
    "id": "CoYUnagMVp-C"
   },
   "outputs": [
    {
     "data": {
      "text/html": [
       "<div>\n",
       "<style scoped>\n",
       "    .dataframe tbody tr th:only-of-type {\n",
       "        vertical-align: middle;\n",
       "    }\n",
       "\n",
       "    .dataframe tbody tr th {\n",
       "        vertical-align: top;\n",
       "    }\n",
       "\n",
       "    .dataframe thead th {\n",
       "        text-align: right;\n",
       "    }\n",
       "</style>\n",
       "<table border=\"1\" class=\"dataframe\">\n",
       "  <thead>\n",
       "    <tr style=\"text-align: right;\">\n",
       "      <th></th>\n",
       "      <th>budget</th>\n",
       "      <th>revenue</th>\n",
       "      <th>runtime</th>\n",
       "      <th>vote_average</th>\n",
       "      <th>release_year</th>\n",
       "    </tr>\n",
       "  </thead>\n",
       "  <tbody>\n",
       "    <tr>\n",
       "      <th>count</th>\n",
       "      <td>1.889000e+03</td>\n",
       "      <td>1.889000e+03</td>\n",
       "      <td>1889.000000</td>\n",
       "      <td>1889.000000</td>\n",
       "      <td>1889.000000</td>\n",
       "    </tr>\n",
       "    <tr>\n",
       "      <th>mean</th>\n",
       "      <td>5.431083e+07</td>\n",
       "      <td>1.553653e+08</td>\n",
       "      <td>109.658549</td>\n",
       "      <td>6.140762</td>\n",
       "      <td>2007.860773</td>\n",
       "    </tr>\n",
       "    <tr>\n",
       "      <th>std</th>\n",
       "      <td>4.858721e+07</td>\n",
       "      <td>2.146698e+08</td>\n",
       "      <td>18.017041</td>\n",
       "      <td>0.764763</td>\n",
       "      <td>4.468841</td>\n",
       "    </tr>\n",
       "    <tr>\n",
       "      <th>min</th>\n",
       "      <td>5.000000e+06</td>\n",
       "      <td>2.033165e+06</td>\n",
       "      <td>63.000000</td>\n",
       "      <td>3.300000</td>\n",
       "      <td>2000.000000</td>\n",
       "    </tr>\n",
       "    <tr>\n",
       "      <th>25%</th>\n",
       "      <td>2.000000e+07</td>\n",
       "      <td>3.456058e+07</td>\n",
       "      <td>97.000000</td>\n",
       "      <td>5.600000</td>\n",
       "      <td>2004.000000</td>\n",
       "    </tr>\n",
       "    <tr>\n",
       "      <th>50%</th>\n",
       "      <td>3.800000e+07</td>\n",
       "      <td>8.361541e+07</td>\n",
       "      <td>107.000000</td>\n",
       "      <td>6.100000</td>\n",
       "      <td>2008.000000</td>\n",
       "    </tr>\n",
       "    <tr>\n",
       "      <th>75%</th>\n",
       "      <td>7.200000e+07</td>\n",
       "      <td>1.782626e+08</td>\n",
       "      <td>120.000000</td>\n",
       "      <td>6.600000</td>\n",
       "      <td>2012.000000</td>\n",
       "    </tr>\n",
       "    <tr>\n",
       "      <th>max</th>\n",
       "      <td>3.800000e+08</td>\n",
       "      <td>2.781506e+09</td>\n",
       "      <td>214.000000</td>\n",
       "      <td>8.100000</td>\n",
       "      <td>2015.000000</td>\n",
       "    </tr>\n",
       "  </tbody>\n",
       "</table>\n",
       "</div>"
      ],
      "text/plain": [
       "             budget       revenue      runtime  vote_average  release_year\n",
       "count  1.889000e+03  1.889000e+03  1889.000000   1889.000000   1889.000000\n",
       "mean   5.431083e+07  1.553653e+08   109.658549      6.140762   2007.860773\n",
       "std    4.858721e+07  2.146698e+08    18.017041      0.764763      4.468841\n",
       "min    5.000000e+06  2.033165e+06    63.000000      3.300000   2000.000000\n",
       "25%    2.000000e+07  3.456058e+07    97.000000      5.600000   2004.000000\n",
       "50%    3.800000e+07  8.361541e+07   107.000000      6.100000   2008.000000\n",
       "75%    7.200000e+07  1.782626e+08   120.000000      6.600000   2012.000000\n",
       "max    3.800000e+08  2.781506e+09   214.000000      8.100000   2015.000000"
      ]
     },
     "execution_count": 3,
     "metadata": {},
     "output_type": "execute_result"
    }
   ],
   "source": [
    "data.describe()"
   ]
  },
  {
   "cell_type": "markdown",
   "metadata": {
    "colab_type": "text",
    "id": "DTIt7ezGVp-G"
   },
   "source": [
    "# Предобработка"
   ]
  },
  {
   "cell_type": "code",
   "execution_count": 15,
   "metadata": {
    "colab": {},
    "colab_type": "code",
    "id": "jNb40DwKVp-H"
   },
   "outputs": [],
   "source": [
    "answers = {} # создадим словарь для ответов\n",
    "\n",
    "# Add profit column\n",
    "data['profit'] = data['revenue'] - data['budget']\n",
    "\n",
    "# Normalize date column\n",
    "data['release_date'] = pd.to_datetime(data['release_date'])\n",
    "\n",
    "def counter(movie_bd, x):\n",
    "    \"\"\"Counter for concatenated values in columns\n",
    "        movie_bd {DataFrame} - dataset\n",
    "        x {String} - column name\n",
    "    \"\"\"\n",
    "    data_plot = movie_bd[x].str.cat(sep='|')\n",
    "    dat = pd.Series(data_plot.split('|'))\n",
    "    info = dat.value_counts(ascending=False)\n",
    "    return info"
   ]
  },
  {
   "cell_type": "markdown",
   "metadata": {
    "colab_type": "text",
    "id": "YxZaH-nPVp-L"
   },
   "source": [
    "# 1. У какого фильма из списка самый большой бюджет?"
   ]
  },
  {
   "cell_type": "markdown",
   "metadata": {
    "colab_type": "text",
    "id": "Nd-G5gX6Vp-M"
   },
   "source": [
    "Использовать варианты ответов в коде решения запрещено.    \n",
    "Вы думаете и в жизни у вас будут варианты ответов?)"
   ]
  },
  {
   "cell_type": "code",
   "execution_count": 6,
   "metadata": {
    "colab": {},
    "colab_type": "code",
    "id": "dZwb3m28Vp-S"
   },
   "outputs": [],
   "source": [
    "data = pd.read_csv('data.csv')\n",
    "data[data['budget'] == data['budget'].max()]\n",
    "\n",
    "answers['1'] = 'Pirates of the Caribbean: On Stranger Tides'"
   ]
  },
  {
   "cell_type": "markdown",
   "metadata": {
    "colab_type": "text",
    "id": "FNRbbI3vVp-c"
   },
   "source": [
    "# 2. Какой из фильмов самый длительный (в минутах)?"
   ]
  },
  {
   "cell_type": "code",
   "execution_count": 8,
   "metadata": {
    "colab": {},
    "colab_type": "code",
    "id": "vHAoEXNTVp-d"
   },
   "outputs": [],
   "source": [
    "data[data['runtime'] == data['runtime'].max()]\n",
    "\n",
    "answers['2'] = 'Gods and Generals'"
   ]
  },
  {
   "cell_type": "markdown",
   "metadata": {
    "colab_type": "text",
    "id": "bapLlpW8Vp-k"
   },
   "source": [
    "# 3. Какой из фильмов самый короткий (в минутах)?\n",
    "\n",
    "\n",
    "\n"
   ]
  },
  {
   "cell_type": "code",
   "execution_count": 9,
   "metadata": {
    "colab": {},
    "colab_type": "code",
    "id": "YBxaSHuAVp-l"
   },
   "outputs": [],
   "source": [
    "data[data['runtime'] == data['runtime'].min()]\n",
    "\n",
    "answers['3'] = 'Winnie the Pooh'"
   ]
  },
  {
   "cell_type": "markdown",
   "metadata": {
    "colab_type": "text",
    "id": "TfQbxbfNVp-p"
   },
   "source": [
    "# 4. Какова средняя длительность фильмов?\n"
   ]
  },
  {
   "cell_type": "code",
   "execution_count": 10,
   "metadata": {
    "colab": {},
    "colab_type": "code",
    "id": "5K6dKZYVVp-q"
   },
   "outputs": [],
   "source": [
    "round(data['runtime'].mean())\n",
    "\n",
    "answers['4'] = '110'"
   ]
  },
  {
   "cell_type": "markdown",
   "metadata": {
    "colab_type": "text",
    "id": "r5TvbnT_Vp-u"
   },
   "source": [
    "# 5. Каково медианное значение длительности фильмов? "
   ]
  },
  {
   "cell_type": "code",
   "execution_count": 11,
   "metadata": {
    "colab": {},
    "colab_type": "code",
    "id": "iBROplKnVp-v"
   },
   "outputs": [],
   "source": [
    "round(data['runtime'].median())\n",
    "\n",
    "answers['5'] = '107'"
   ]
  },
  {
   "cell_type": "markdown",
   "metadata": {
    "colab_type": "text",
    "id": "39P-deDSVp-y"
   },
   "source": [
    "# 6. Какой самый прибыльный фильм?\n",
    "#### Внимание! Здесь и далее под «прибылью» или «убытками» понимается разность между сборами и бюджетом фильма. (прибыль = сборы - бюджет) в нашем датасете это будет (profit = revenue - budget) "
   ]
  },
  {
   "cell_type": "code",
   "execution_count": 16,
   "metadata": {
    "colab": {},
    "colab_type": "code",
    "id": "UYZh4T9WVp-y"
   },
   "outputs": [],
   "source": [
    "data[data['profit'] == data['profit'].max()]\n",
    "\n",
    "answers['6'] = 'Avatar'"
   ]
  },
  {
   "cell_type": "markdown",
   "metadata": {
    "colab_type": "text",
    "id": "M99JmIX4Vp-2"
   },
   "source": [
    "# 7. Какой фильм самый убыточный? "
   ]
  },
  {
   "cell_type": "code",
   "execution_count": 17,
   "metadata": {
    "colab": {},
    "colab_type": "code",
    "id": "w-D2m4XPVp-3"
   },
   "outputs": [],
   "source": [
    "data[data['profit'] == data['profit'].min()]\n",
    "\n",
    "answers['7'] = 'The Lone Ranger'"
   ]
  },
  {
   "cell_type": "markdown",
   "metadata": {
    "colab_type": "text",
    "id": "wEOM5ERVVp-6"
   },
   "source": [
    "# 8. У скольких фильмов из датасета объем сборов оказался выше бюджета?"
   ]
  },
  {
   "cell_type": "code",
   "execution_count": 18,
   "metadata": {
    "colab": {},
    "colab_type": "code",
    "id": "y00_7HD6Vp-7"
   },
   "outputs": [],
   "source": [
    "len(data[data['profit'] > 0])\n",
    "\n",
    "answers['8'] = '1478'"
   ]
  },
  {
   "cell_type": "markdown",
   "metadata": {
    "colab_type": "text",
    "id": "xhpspA9KVp_A"
   },
   "source": [
    "# 9. Какой фильм оказался самым кассовым в 2008 году?"
   ]
  },
  {
   "cell_type": "code",
   "execution_count": 19,
   "metadata": {
    "colab": {},
    "colab_type": "code",
    "id": "MoUyQr9RVp_B"
   },
   "outputs": [],
   "source": [
    "data_2008 = data[data['release_year'] == 2008]\n",
    "data_2008[data_2008['profit'] == data_2008['profit'].max()]\n",
    "\n",
    "answers['9'] = 'The Dark Knight'"
   ]
  },
  {
   "cell_type": "markdown",
   "metadata": {
    "colab_type": "text",
    "id": "Zi4hDKidVp_F"
   },
   "source": [
    "# 10. Самый убыточный фильм за период с 2012 по 2014 г. (включительно)?\n"
   ]
  },
  {
   "cell_type": "code",
   "execution_count": 24,
   "metadata": {
    "colab": {},
    "colab_type": "code",
    "id": "XqyRmufJVp_F"
   },
   "outputs": [
    {
     "data": {
      "text/html": [
       "<div>\n",
       "<style scoped>\n",
       "    .dataframe tbody tr th:only-of-type {\n",
       "        vertical-align: middle;\n",
       "    }\n",
       "\n",
       "    .dataframe tbody tr th {\n",
       "        vertical-align: top;\n",
       "    }\n",
       "\n",
       "    .dataframe thead th {\n",
       "        text-align: right;\n",
       "    }\n",
       "</style>\n",
       "<table border=\"1\" class=\"dataframe\">\n",
       "  <thead>\n",
       "    <tr style=\"text-align: right;\">\n",
       "      <th></th>\n",
       "      <th>imdb_id</th>\n",
       "      <th>budget</th>\n",
       "      <th>revenue</th>\n",
       "      <th>original_title</th>\n",
       "      <th>cast</th>\n",
       "      <th>director</th>\n",
       "      <th>tagline</th>\n",
       "      <th>overview</th>\n",
       "      <th>runtime</th>\n",
       "      <th>genres</th>\n",
       "      <th>production_companies</th>\n",
       "      <th>release_date</th>\n",
       "      <th>vote_average</th>\n",
       "      <th>release_year</th>\n",
       "      <th>profit</th>\n",
       "    </tr>\n",
       "  </thead>\n",
       "  <tbody>\n",
       "    <tr>\n",
       "      <th>1245</th>\n",
       "      <td>tt1210819</td>\n",
       "      <td>255000000</td>\n",
       "      <td>89289910</td>\n",
       "      <td>The Lone Ranger</td>\n",
       "      <td>Johnny Depp|Armie Hammer|William Fichtner|Hele...</td>\n",
       "      <td>Gore Verbinski</td>\n",
       "      <td>Never Take Off the Mask</td>\n",
       "      <td>The Texas Rangers chase down a gang of outlaws...</td>\n",
       "      <td>149</td>\n",
       "      <td>Action|Adventure|Western</td>\n",
       "      <td>Walt Disney Pictures|Jerry Bruckheimer Films|I...</td>\n",
       "      <td>7/3/2013</td>\n",
       "      <td>6.0</td>\n",
       "      <td>2013</td>\n",
       "      <td>-165710090</td>\n",
       "    </tr>\n",
       "  </tbody>\n",
       "</table>\n",
       "</div>"
      ],
      "text/plain": [
       "        imdb_id     budget   revenue   original_title  \\\n",
       "1245  tt1210819  255000000  89289910  The Lone Ranger   \n",
       "\n",
       "                                                   cast        director  \\\n",
       "1245  Johnny Depp|Armie Hammer|William Fichtner|Hele...  Gore Verbinski   \n",
       "\n",
       "                      tagline  \\\n",
       "1245  Never Take Off the Mask   \n",
       "\n",
       "                                               overview  runtime  \\\n",
       "1245  The Texas Rangers chase down a gang of outlaws...      149   \n",
       "\n",
       "                        genres  \\\n",
       "1245  Action|Adventure|Western   \n",
       "\n",
       "                                   production_companies release_date  \\\n",
       "1245  Walt Disney Pictures|Jerry Bruckheimer Films|I...     7/3/2013   \n",
       "\n",
       "      vote_average  release_year     profit  \n",
       "1245           6.0          2013 -165710090  "
      ]
     },
     "execution_count": 24,
     "metadata": {},
     "output_type": "execute_result"
    }
   ],
   "source": [
    "data_2012_2014 = data[(data['release_year'] >= 2012) & (data['release_year'] <= 2014)]\n",
    "data_2012_2014[data_2012_2014['profit'] == data_2012_2014['profit'].min()]\n",
    "\n",
    "answers['10'] = 'The Lone Ranger'"
   ]
  },
  {
   "cell_type": "markdown",
   "metadata": {
    "colab_type": "text",
    "id": "EA7Sa9dkVp_I"
   },
   "source": [
    "# 11. Какого жанра фильмов больше всего?"
   ]
  },
  {
   "cell_type": "code",
   "execution_count": 113,
   "metadata": {
    "colab": {},
    "colab_type": "code",
    "id": "zsJAwJ8QVp_J"
   },
   "outputs": [
    {
     "data": {
      "text/plain": [
       "('Drama', 782)"
      ]
     },
     "execution_count": 113,
     "metadata": {},
     "output_type": "execute_result"
    }
   ],
   "source": [
    "# эту задачу тоже можно решать разными подходами, попробуй реализовать разные варианты\n",
    "# если будешь добавлять функцию - выноси ее в предобработку что в начале\n",
    "\n",
    "movie_genres_counter = {}\n",
    "\n",
    "for i in range(len(data)):\n",
    "    genres_list = data.loc[i]['genres'].split('|')\n",
    "    \n",
    "    for genre in genres_list:\n",
    "        if genre in movie_genres_counter:\n",
    "            movie_genres_counter[genre] += 1\n",
    "        else:\n",
    "            movie_genres_counter[genre] = 1\n",
    "    \n",
    "\n",
    "movie_genres_counter_sorted = sorted(movie_genres_counter.items(), key=lambda x: x[1], reverse=True)\n",
    "\n",
    "movie_genres_counter_sorted[0]\n",
    "\n",
    "answers['11'] = 'Drama'"
   ]
  },
  {
   "cell_type": "markdown",
   "metadata": {
    "colab_type": "text",
    "id": "Ax6g2C8SVp_M"
   },
   "source": [
    "ВАРИАНТ 2"
   ]
  },
  {
   "cell_type": "code",
   "execution_count": 114,
   "metadata": {
    "colab": {},
    "colab_type": "code",
    "id": "otO3SbrSVp_N"
   },
   "outputs": [],
   "source": [
    "counter(data, 'genres')\n",
    "answers['11'] = 'Drama'"
   ]
  },
  {
   "cell_type": "markdown",
   "metadata": {
    "colab_type": "text",
    "id": "T9_bPWpkVp_Q"
   },
   "source": [
    "# 12. Фильмы какого жанра чаще всего становятся прибыльными? "
   ]
  },
  {
   "cell_type": "code",
   "execution_count": 118,
   "metadata": {
    "colab": {},
    "colab_type": "code",
    "id": "Tmt8MaK1Vp_R"
   },
   "outputs": [
    {
     "data": {
      "text/plain": [
       "Drama              560\n",
       "Comedy             551\n",
       "Thriller           446\n",
       "Action             444\n",
       "Adventure          337\n",
       "Romance            242\n",
       "Crime              231\n",
       "Family             226\n",
       "Science Fiction    195\n",
       "Fantasy            188\n",
       "Horror             150\n",
       "Animation          120\n",
       "Mystery            119\n",
       "Music               47\n",
       "History             46\n",
       "War                 41\n",
       "Western             12\n",
       "Documentary          7\n",
       "dtype: int64"
      ]
     },
     "execution_count": 118,
     "metadata": {},
     "output_type": "execute_result"
    }
   ],
   "source": [
    "data_profitable = data[data['profit'] > 0]\n",
    "counter(data_profitable, 'genres')\n",
    "\n",
    "answers['12'] = 'Drama'"
   ]
  },
  {
   "cell_type": "markdown",
   "metadata": {
    "colab_type": "text",
    "id": "0F23bgsDVp_U"
   },
   "source": [
    "# 13. У какого режиссера самые большие суммарные кассовые сбооры?"
   ]
  },
  {
   "cell_type": "code",
   "execution_count": 133,
   "metadata": {
    "colab": {},
    "colab_type": "code",
    "id": "K6Z3J8ygVp_X"
   },
   "outputs": [
    {
     "data": {
      "text/plain": [
       "('Peter Jackson', 6490593685)"
      ]
     },
     "execution_count": 133,
     "metadata": {},
     "output_type": "execute_result"
    }
   ],
   "source": [
    "Option 1.\n",
    "\n",
    "director_revenue = {}\n",
    "\n",
    "for i in range(len(data)):\n",
    "    director_list = data.loc[i]['director'].split('|')\n",
    "    revenue = data.loc[i]['revenue']\n",
    "    \n",
    "    for d in director_list:\n",
    "        if d in director_revenue:\n",
    "            director_revenue[d] += revenue\n",
    "        else:\n",
    "            director_revenue[d] = revenue\n",
    "    \n",
    "\n",
    "director_revenue_sorted = sorted(director_revenue.items(), key=lambda x: x[1], reverse=True)\n",
    "\n",
    "director_revenue_sorted[0]\n",
    "\n",
    "answers['13'] = 'Peter Jackson'"
   ]
  },
  {
   "cell_type": "code",
   "execution_count": 174,
   "metadata": {},
   "outputs": [
    {
     "data": {
      "text/plain": [
       "director\n",
       "Peter Jackson        6490593685\n",
       "Christopher Nolan    4167548502\n",
       "David Yates          4154295625\n",
       "Michael Bay          3886938960\n",
       "J.J. Abrams          3579169916\n",
       "                        ...    \n",
       "David MichÃ´d           2295423\n",
       "Steven Shainberg        2281089\n",
       "Paul Schrader           2062066\n",
       "Keanu Reeves            2054941\n",
       "Simon Hunter            2033165\n",
       "Name: revenue, Length: 997, dtype: int64"
      ]
     },
     "execution_count": 174,
     "metadata": {},
     "output_type": "execute_result"
    }
   ],
   "source": [
    "Option 2.\n",
    "\n",
    "directors = data[['director', 'revenue']].copy()\n",
    "directors['director'] = directors['director'].apply(lambda s: s.split('|'))\n",
    "directors = directors.explode('director').groupby(by = 'director')\n",
    "\n",
    "directors['revenue'].sum().sort_values(ascending = False)\n",
    "answers['13'] = 'Peter Jackson'"
   ]
  },
  {
   "cell_type": "markdown",
   "metadata": {
    "colab_type": "text",
    "id": "PsYC9FgRVp_a"
   },
   "source": [
    "# 14. Какой режисер снял больше всего фильмов в стиле Action?"
   ]
  },
  {
   "cell_type": "code",
   "execution_count": 144,
   "metadata": {
    "colab": {},
    "colab_type": "code",
    "id": "wd2M-wHeVp_b"
   },
   "outputs": [],
   "source": [
    "action_movies = data[data.genres.str.contains(\"Action\", na=False)]\n",
    "directors = action_movies['director'].str.split('|',expand=True).stack().value_counts()\n",
    "\n",
    "answers['14'] = 'Robert Rodriguez'"
   ]
  },
  {
   "cell_type": "markdown",
   "metadata": {
    "colab_type": "text",
    "id": "PQ0KciD7Vp_f"
   },
   "source": [
    "# 15. Фильмы с каким актером принесли самые высокие кассовые сборы в 2012 году? "
   ]
  },
  {
   "cell_type": "code",
   "execution_count": 178,
   "metadata": {
    "colab": {},
    "colab_type": "code",
    "id": "aga62oeKVp_g"
   },
   "outputs": [],
   "source": [
    "movies_2012 = data[data['release_year'] == 2012][['cast', 'revenue']]\n",
    "movies_2012['cast'] = movies_2012['cast'].apply(lambda s: s.split('|'))\n",
    "movies_2012 = movies_2012.explode('cast').groupbyby = 'cast')\n",
    "\n",
    "movies_2012['revenue'].sum().sort_values(ascending = False)\n",
    "\n",
    "answers['15'] = 'Chris Hemsworth'"
   ]
  },
  {
   "cell_type": "markdown",
   "metadata": {
    "colab_type": "text",
    "id": "mWHyyL7QVp_j"
   },
   "source": [
    "# 16. Какой актер снялся в большем количестве высокобюджетных фильмов?"
   ]
  },
  {
   "cell_type": "code",
   "execution_count": 181,
   "metadata": {
    "colab": {},
    "colab_type": "code",
    "id": "qQtmHKTFVp_k"
   },
   "outputs": [
    {
     "data": {
      "text/plain": [
       "Matt Damon          18\n",
       "Adam Sandler        17\n",
       "Angelina Jolie      16\n",
       "Eddie Murphy        15\n",
       "Tom Cruise          15\n",
       "                    ..\n",
       "Dan Castellaneta     1\n",
       "Stuart Townsend      1\n",
       "Christina Cox        1\n",
       "Simon Baker          1\n",
       "Youki Kudoh          1\n",
       "Length: 1505, dtype: int64"
      ]
     },
     "execution_count": 181,
     "metadata": {},
     "output_type": "execute_result"
    }
   ],
   "source": [
    "high_budget_movies = data[data['budget'] > data['budget'].mean()]\n",
    "\n",
    "counter(high_budget_movies, 'cast')\n",
    "answers['16'] = 'Matt Damon'"
   ]
  },
  {
   "cell_type": "markdown",
   "metadata": {
    "colab_type": "text",
    "id": "NIh6AaW5Vp_n"
   },
   "source": [
    "# 17. В фильмах какого жанра больше всего снимался Nicolas Cage? "
   ]
  },
  {
   "cell_type": "code",
   "execution_count": 185,
   "metadata": {
    "colab": {},
    "colab_type": "code",
    "id": "H74SJDIBVp_n"
   },
   "outputs": [
    {
     "data": {
      "text/plain": [
       "Action             17\n",
       "Thriller           15\n",
       "Drama              12\n",
       "Crime              10\n",
       "Fantasy             8\n",
       "Adventure           7\n",
       "Comedy              6\n",
       "Science Fiction     4\n",
       "Animation           3\n",
       "Mystery             3\n",
       "Family              3\n",
       "History             2\n",
       "War                 1\n",
       "Horror              1\n",
       "Romance             1\n",
       "dtype: int64"
      ]
     },
     "execution_count": 185,
     "metadata": {},
     "output_type": "execute_result"
    }
   ],
   "source": [
    "n_cage_movies = data[data['cast'].str.contains(\"Nicolas Cage\", na=False)]\n",
    "\n",
    "counter(n_cage_movies, 'genres')\n",
    "answers['17'] = 'Action'"
   ]
  },
  {
   "cell_type": "markdown",
   "metadata": {
    "colab_type": "text",
    "id": "RqOmPRfWVp_q"
   },
   "source": [
    "# 18. Самый убыточный фильм от Paramount Pictures"
   ]
  },
  {
   "cell_type": "code",
   "execution_count": 20,
   "metadata": {
    "colab": {},
    "colab_type": "code",
    "id": "9E_B0Y96Vp_r"
   },
   "outputs": [],
   "source": [
    "paramount_pictures_movies = data[data['production_companies'].str.contains(\"Paramount Pictures\", na=False)]\n",
    "paramount_pictures_movies[paramount_pictures_movies['profit'] == paramount_pictures_movies['profit'].min()]\n",
    "\n",
    "answers['18'] = 'K-19: The Widowmaker'"
   ]
  },
  {
   "cell_type": "markdown",
   "metadata": {
    "colab_type": "text",
    "id": "vS8Ur6ddVp_u"
   },
   "source": [
    "# 19. Какой год стал самым успешным по суммарным кассовым сборам?"
   ]
  },
  {
   "cell_type": "code",
   "execution_count": 21,
   "metadata": {
    "colab": {},
    "colab_type": "code",
    "id": "Dnbt4GdIVp_v"
   },
   "outputs": [],
   "source": [
    "release_year_group = data.groupby(['release_year']).sum()\n",
    "release_year_group[release_year_group['revenue'] == release_year_group['revenue'].max()]\n",
    "\n",
    "answers['19'] = '2015'"
   ]
  },
  {
   "cell_type": "markdown",
   "metadata": {
    "colab_type": "text",
    "id": "JAzJh4QAVp_z"
   },
   "source": [
    "# 20. Какой самый прибыльный год для студии Warner Bros?"
   ]
  },
  {
   "cell_type": "code",
   "execution_count": 22,
   "metadata": {
    "colab": {},
    "colab_type": "code",
    "id": "wgVu02DEVp_0"
   },
   "outputs": [],
   "source": [
    "warner_bros_movies = data[data['production_companies'].str.contains(\"Warner Bros\", na=False)]\n",
    "warner_bros_movies_by_year = warner_bros_movies.groupby(['release_year']).sum()\n",
    "warner_bros_movies_by_year[warner_bros_movies_by_year['profit'] == warner_bros_movies_by_year['profit'].max()]\n",
    "\n",
    "answers['20'] = '2014'"
   ]
  },
  {
   "cell_type": "markdown",
   "metadata": {
    "colab_type": "text",
    "id": "8Im1S2HRVp_4"
   },
   "source": [
    "# 21. В каком месяце за все годы суммарно вышло больше всего фильмов?"
   ]
  },
  {
   "cell_type": "code",
   "execution_count": 28,
   "metadata": {
    "colab": {},
    "colab_type": "code",
    "id": "lev6TH7gVp_4"
   },
   "outputs": [
    {
     "data": {
      "text/plain": [
       "9     227\n",
       "12    190\n",
       "10    186\n",
       "8     161\n",
       "3     156\n",
       "4     149\n",
       "6     147\n",
       "11    146\n",
       "7     142\n",
       "5     140\n",
       "2     135\n",
       "1     110\n",
       "Name: release_month, dtype: int64"
      ]
     },
     "execution_count": 28,
     "metadata": {},
     "output_type": "execute_result"
    }
   ],
   "source": [
    "data['release_month'] = data['release_date'].dt.month\n",
    "data['release_month'].value_counts()\n",
    "\n",
    "answers['21'] = 'Сентябрь'"
   ]
  },
  {
   "cell_type": "markdown",
   "metadata": {
    "colab_type": "text",
    "id": "uAJsZ_NeVp_7"
   },
   "source": [
    "# 22. Сколько суммарно вышло фильмов летом? (за июнь, июль, август)"
   ]
  },
  {
   "cell_type": "code",
   "execution_count": 53,
   "metadata": {
    "colab": {},
    "colab_type": "code",
    "id": "Aa-hEREoVp_8"
   },
   "outputs": [
    {
     "data": {
      "text/plain": [
       "False    1439\n",
       "True      450\n",
       "Name: release_month, dtype: int64"
      ]
     },
     "execution_count": 53,
     "metadata": {},
     "output_type": "execute_result"
    }
   ],
   "source": [
    "summer_range = range(6, 9)\n",
    "data['release_month'].isin(summer_range).value_counts()\n",
    "\n",
    "answers['22'] = '450'"
   ]
  },
  {
   "cell_type": "markdown",
   "metadata": {
    "colab_type": "text",
    "id": "G94ppOY1VqAA"
   },
   "source": [
    "# 23. Для какого режиссера зима – самое продуктивное время года? "
   ]
  },
  {
   "cell_type": "code",
   "execution_count": 56,
   "metadata": {
    "colab": {},
    "colab_type": "code",
    "id": "RhNTsamuVqAB"
   },
   "outputs": [
    {
     "data": {
      "text/plain": [
       "Peter Jackson                     7\n",
       "Clint Eastwood                    6\n",
       "Steven Soderbergh                 6\n",
       "Nancy Meyers                      4\n",
       "Adam Shankman                     4\n",
       "                                 ..\n",
       "Andrew Davis                      1\n",
       "Ava DuVernay                      1\n",
       "MÃ¥ns MÃ¥rlind                    1\n",
       "Alejandro GonzÃ¡lez IÃ±Ã¡rritu    1\n",
       "Mike McCoy                        1\n",
       "Length: 358, dtype: int64"
      ]
     },
     "execution_count": 56,
     "metadata": {},
     "output_type": "execute_result"
    }
   ],
   "source": [
    "winter_movies = data[data['release_month'].isin([1,2,12])]\n",
    "counter(winter_movies, 'director')\n",
    "\n",
    "answers['23'] = 'Peter Jackson'"
   ]
  },
  {
   "cell_type": "markdown",
   "metadata": {
    "colab_type": "text",
    "id": "RBo0JVjVVqAF"
   },
   "source": [
    "# 24. Какая студия дает самые длинные названия своим фильмам по количеству символов?"
   ]
  },
  {
   "cell_type": "code",
   "execution_count": 173,
   "metadata": {
    "colab": {},
    "colab_type": "code",
    "id": "QRGS8L0iVqAG"
   },
   "outputs": [
    {
     "name": "stderr",
     "output_type": "stream",
     "text": [
      "/Users/rgalieva/opt/anaconda3/lib/python3.7/site-packages/pandas/core/strings.py:1952: UserWarning: This pattern has match groups. To actually get the groups, use str.extract.\n",
      "  return func(self, *args, **kwargs)\n"
     ]
    },
    {
     "data": {
      "text/plain": [
       "('Four By Two Productions', 83.0)"
      ]
     },
     "execution_count": 173,
     "metadata": {},
     "output_type": "execute_result"
    }
   ],
   "source": [
    "production_companies_titles = {}\n",
    "\n",
    "production_companies = counter(data, 'production_companies').keys()\n",
    "data['original_title_length'] = data['original_title'].apply(lambda x: len(x))\n",
    "\n",
    "for company in production_companies:\n",
    "    company_movies = data[data['production_companies'].str.contains(company, na=False)]\n",
    "    mean_length = company_movies['original_title_length'].mean()\n",
    "    \n",
    "    if len(company_movies):\n",
    "        production_companies_titles[company] = mean_length\n",
    "\n",
    "production_companies_titles_sorted = sorted(production_companies_titles.items(), key=lambda x: x[1], reverse=True)\n",
    "production_companies_titles_sorted[0]\n",
    "\n",
    "data.drop( ['original_title_length'], axis = 1, inplace = True)\n",
    "\n",
    "answers['24'] = 'Four By Two Productions'"
   ]
  },
  {
   "cell_type": "markdown",
   "metadata": {
    "colab_type": "text",
    "id": "9G0hbvR7VqAK"
   },
   "source": [
    "# 25. Описание фильмов какой студии в среднем самые длинные по количеству слов?"
   ]
  },
  {
   "cell_type": "code",
   "execution_count": 174,
   "metadata": {
    "colab": {},
    "colab_type": "code",
    "id": "Ge2GsLNxVqAK"
   },
   "outputs": [
    {
     "data": {
      "text/plain": [
       "('Midnight Picture Show', 175.0)"
      ]
     },
     "execution_count": 174,
     "metadata": {},
     "output_type": "execute_result"
    }
   ],
   "source": [
    "production_companies_titles = {}\n",
    "\n",
    "production_companies = counter(data, 'production_companies').keys()\n",
    "data['overview_length'] = data['overview'].apply(lambda overview: len(overview.split()))\n",
    "\n",
    "for company in production_companies:\n",
    "    company_movies = data[data['production_companies'].str.contains(company, na=False)]\n",
    "    mean_length = company_movies['overview_length'].mean()\n",
    "    \n",
    "    if len(company_movies):\n",
    "        production_companies_titles[company] = mean_length\n",
    "\n",
    "production_companies_titles_sorted = sorted(production_companies_titles.items(), key=lambda x: x[1], reverse=True)\n",
    "production_companies_titles_sorted[0]\n",
    "\n",
    "data.drop( ['overview_length'], axis = 1, inplace = True)\n",
    "\n",
    "answers['25'] = 'Midnight Picture Show'"
   ]
  },
  {
   "cell_type": "markdown",
   "metadata": {
    "colab_type": "text",
    "id": "FJ1AFt90VqAP"
   },
   "source": [
    "# 26. Какие фильмы входят в 1 процент лучших по рейтингу? \n",
    "по vote_average"
   ]
  },
  {
   "cell_type": "code",
   "execution_count": 87,
   "metadata": {
    "colab": {},
    "colab_type": "code",
    "id": "8qmJVq4CVqAQ"
   },
   "outputs": [
    {
     "data": {
      "text/html": [
       "<div>\n",
       "<style scoped>\n",
       "    .dataframe tbody tr th:only-of-type {\n",
       "        vertical-align: middle;\n",
       "    }\n",
       "\n",
       "    .dataframe tbody tr th {\n",
       "        vertical-align: top;\n",
       "    }\n",
       "\n",
       "    .dataframe thead th {\n",
       "        text-align: right;\n",
       "    }\n",
       "</style>\n",
       "<table border=\"1\" class=\"dataframe\">\n",
       "  <thead>\n",
       "    <tr style=\"text-align: right;\">\n",
       "      <th></th>\n",
       "      <th>original_title</th>\n",
       "    </tr>\n",
       "  </thead>\n",
       "  <tbody>\n",
       "    <tr>\n",
       "      <th>9</th>\n",
       "      <td>Inside Out</td>\n",
       "    </tr>\n",
       "    <tr>\n",
       "      <th>34</th>\n",
       "      <td>Room</td>\n",
       "    </tr>\n",
       "    <tr>\n",
       "      <th>118</th>\n",
       "      <td>Interstellar</td>\n",
       "    </tr>\n",
       "    <tr>\n",
       "      <th>119</th>\n",
       "      <td>Guardians of the Galaxy</td>\n",
       "    </tr>\n",
       "    <tr>\n",
       "      <th>125</th>\n",
       "      <td>The Imitation Game</td>\n",
       "    </tr>\n",
       "    <tr>\n",
       "      <th>128</th>\n",
       "      <td>Gone Girl</td>\n",
       "    </tr>\n",
       "    <tr>\n",
       "      <th>138</th>\n",
       "      <td>The Grand Budapest Hotel</td>\n",
       "    </tr>\n",
       "    <tr>\n",
       "      <th>370</th>\n",
       "      <td>Inception</td>\n",
       "    </tr>\n",
       "    <tr>\n",
       "      <th>599</th>\n",
       "      <td>The Dark Knight</td>\n",
       "    </tr>\n",
       "    <tr>\n",
       "      <th>872</th>\n",
       "      <td>The Pianist</td>\n",
       "    </tr>\n",
       "    <tr>\n",
       "      <th>1081</th>\n",
       "      <td>The Lord of the Rings: The Return of the King</td>\n",
       "    </tr>\n",
       "    <tr>\n",
       "      <th>1183</th>\n",
       "      <td>The Wolf of Wall Street</td>\n",
       "    </tr>\n",
       "    <tr>\n",
       "      <th>1191</th>\n",
       "      <td>12 Years a Slave</td>\n",
       "    </tr>\n",
       "    <tr>\n",
       "      <th>1800</th>\n",
       "      <td>Memento</td>\n",
       "    </tr>\n",
       "  </tbody>\n",
       "</table>\n",
       "</div>"
      ],
      "text/plain": [
       "                                     original_title\n",
       "9                                        Inside Out\n",
       "34                                             Room\n",
       "118                                    Interstellar\n",
       "119                         Guardians of the Galaxy\n",
       "125                              The Imitation Game\n",
       "128                                       Gone Girl\n",
       "138                        The Grand Budapest Hotel\n",
       "370                                       Inception\n",
       "599                                 The Dark Knight\n",
       "872                                     The Pianist\n",
       "1081  The Lord of the Rings: The Return of the King\n",
       "1183                        The Wolf of Wall Street\n",
       "1191                               12 Years a Slave\n",
       "1800                                        Memento"
      ]
     },
     "execution_count": 87,
     "metadata": {},
     "output_type": "execute_result"
    }
   ],
   "source": [
    "data[data['vote_average'] > data.quantile(0.99, numeric_only=True)['vote_average']][['original_title']]\n",
    "\n",
    "answers['26'] = 'Inside Out, The Dark Knight, 12 Years a Slave'"
   ]
  },
  {
   "cell_type": "markdown",
   "metadata": {
    "colab_type": "text",
    "id": "MdXsUXbCVqAV"
   },
   "source": [
    "# 27. Какие актеры чаще всего снимаются в одном фильме вместе?\n"
   ]
  },
  {
   "cell_type": "markdown",
   "metadata": {
    "colab_type": "text",
    "id": "4ymnxEVoVqAW"
   },
   "source": [
    "ВАРИАНТ 2"
   ]
  },
  {
   "cell_type": "code",
   "execution_count": 111,
   "metadata": {},
   "outputs": [
    {
     "data": {
      "text/plain": [
       "(('Daniel Radcliffe', 'Rupert Grint'), 8)"
      ]
     },
     "execution_count": 111,
     "metadata": {},
     "output_type": "execute_result"
    }
   ],
   "source": [
    "from itertools import combinations\n",
    "\n",
    "cast_combination = {}\n",
    "\n",
    "for i in range(0, len(data)):\n",
    "    cast = data['cast'][i].split('|')\n",
    "    cast_combo = list(combinations(cast, 2))\n",
    "                      \n",
    "    for combo in cast_combo:\n",
    "        if combo in cast_combination:\n",
    "            cast_combination[combo] += 1\n",
    "        else:\n",
    "            cast_combination[combo] = 1                   \n",
    "\n",
    "cast_combination_sorted = sorted(cast_combination.items(), key=lambda x: x[1], reverse=True)\n",
    "cast_combination_sorted[0]\n",
    "\n",
    "answers['27'] = 'Daniel Radcliffe & Rupert Grint'"
   ]
  },
  {
   "cell_type": "markdown",
   "metadata": {
    "colab_type": "text",
    "id": "U0nONFnGVqAX"
   },
   "source": [
    "# Submission"
   ]
  },
  {
   "cell_type": "code",
   "execution_count": 175,
   "metadata": {
    "colab": {},
    "colab_type": "code",
    "id": "IfcaRO9-VqAX",
    "outputId": "0f132912-32bb-4196-c98c-abfbc4ad5a5f"
   },
   "outputs": [
    {
     "data": {
      "text/plain": [
       "{'6': 'Avatar',\n",
       " '7': 'The Lone Ranger',\n",
       " '8': '1478',\n",
       " '9': 'The Dark Knight',\n",
       " '18': 'K-19: The Widowmaker',\n",
       " '19': '2015',\n",
       " '20': '2014',\n",
       " '21': 'Сентябрь',\n",
       " '24': 'Universal Pictures'}"
      ]
     },
     "execution_count": 175,
     "metadata": {},
     "output_type": "execute_result"
    }
   ],
   "source": [
    "# в конце можно посмотреть свои ответы к каждому вопросу\n",
    "answers"
   ]
  },
  {
   "cell_type": "code",
   "execution_count": 176,
   "metadata": {
    "colab": {},
    "colab_type": "code",
    "id": "SiRmHPl8VqAd"
   },
   "outputs": [
    {
     "data": {
      "text/plain": [
       "9"
      ]
     },
     "execution_count": 176,
     "metadata": {},
     "output_type": "execute_result"
    }
   ],
   "source": [
    "# и убедиться что ни чего не пропустил)\n",
    "len(answers)"
   ]
  },
  {
   "cell_type": "code",
   "execution_count": 0,
   "metadata": {
    "colab": {},
    "colab_type": "code",
    "id": "uCfuTkRbVqAg"
   },
   "outputs": [],
   "source": []
  },
  {
   "cell_type": "code",
   "execution_count": 0,
   "metadata": {
    "colab": {},
    "colab_type": "code",
    "id": "Vwx3NrkSVqAl"
   },
   "outputs": [],
   "source": []
  }
 ],
 "metadata": {
  "colab": {
   "name": "Copy of [SF-DST] Movies IMBD v4.1 TEMPLATE.ipynb",
   "provenance": []
  },
  "kernelspec": {
   "display_name": "Python 3",
   "language": "python",
   "name": "python3"
  },
  "language_info": {
   "codemirror_mode": {
    "name": "ipython",
    "version": 3
   },
   "file_extension": ".py",
   "mimetype": "text/x-python",
   "name": "python",
   "nbconvert_exporter": "python",
   "pygments_lexer": "ipython3",
   "version": "3.7.6"
  }
 },
 "nbformat": 4,
 "nbformat_minor": 1
}